{
 "cells": [
  {
   "cell_type": "code",
   "execution_count": 4,
   "metadata": {},
   "outputs": [],
   "source": [
    "import pandas as pd \n",
    "import os\n",
    "from sklearn.feature_extraction.text import CountVectorizer\n",
    "import numpy as np\n",
    "\n",
    "data = pd.read_csv('/Users/natasha246/Documents/questions_list_users_sorted.csv', delimiter = ',')\n",
    "df = pd.DataFrame(data)"
   ]
  },
  {
   "cell_type": "code",
   "execution_count": 8,
   "metadata": {},
   "outputs": [
    {
     "name": "stdout",
     "output_type": "stream",
     "text": [
      "['000', '10', '100', '11', '12', '1pm', '1st', '1yr', '20', '2010', '2016', '2017', '2500', '30', '39', '3d', '3rd', '40', '4d', '4th', '50', '60', '637', '65', '74', '90', '_lexieann', 'a9hudxoo', 'ab', 'abc', 'abcdiagnosis', 'abcdrbchat', 'abolish', 'about', 'above', 'abt', 'access', 'accurately', 'acids', 'active', 'actually', 'actwithlove', 'acupressure', 'acupuncture', 'adds', 'adjusting', 'advanced', 'advances', 'advice', 'advocates', 'affect', 'affects', 'after', 'again', 'against', 'age', 'ai', 'alcohol', 'algorithm', 'alive', 'all', 'along', 'alright', 'also', 'alternative', 'always', 'am', 'amount', 'amp', 'an', 'analysis', 'and', 'answer', 'antiestrogen', 'anxiety', 'any', 'anyone', 'app', 'approach', 'approx', 'are', 'aren', 'areyouin', 'around', 'art', 'as', 'asco', 'ask', 'assessments', 'associated', 'associations', 'at', 'av', 'available', 'avoid', 'avoided', 'avoiders', 'aware', 'awareness', 'away', 'axillary', 'axillarynodedissection', 'back', 'bacteria', 'bad', 'barbecued', 'bbq', 'bc', 'bc_consortium', 'bcsm', 'be', 'become', 'becoming', 'been', 'begin', 'behind', 'belly', 'benefit', 'benefits', 'benign', 'best', 'better', 'between', 'beyond', 'big', 'biomarkers', 'bionewsuk', 'biopsy', 'birthcontrol', 'bleeding', 'blocking', 'blog', 'blogs', 'blood', 'bmi', 'boards', 'body', 'bonedensity', 'bonemets', 'boobs', 'book', 'boost', 'both', 'bottle', 'box', 'bpa', 'brachytherapy', 'brain', 'brainwashed', 'brca', 'breast', 'breastcalcifications', 'breastcancer', 'breastcancerawarenessmonth', 'breastdensity', 'breastdisease', 'breastfeeding', 'breastimplants', 'breastreconstruction', 'breastsurgery', 'brexit', 'bring', 'broken', 'bruised', 'bucket', 'but', 'by', 'bystander', 'c4yw', 'calorie', 'campaign', 'can', 'cancer', 'cancers', 'cans', 'capsularcontracture', 'caramelparsley', 'carboplatin', 'carcinogenic', 'carcinoma', 'care', 'caregiver', 'caregivers', 'caring', 'carolina', 'carrying', 'case', 'cases', 'casualty', 'cause', 'causes', 'celebrating', 'cell', 'cells', 'century', 'chance', 'change', 'charities', 'charity', 'chat', 'cheddar', 'cheese', 'chemo', 'chemobrain', 'chemofog', 'chemotherapy', 'chems', 'children', 'chiropractor', 'choice', 'christian', 'cigarettes', 'cipn', 'circulating', 'clinical', 'clinicaltrial', 'clinicaltrials', 'cloaks', 'co', 'collaborate', 'colored', 'combination', 'come', 'comes', 'committolove', 'commonly', 'communities', 'community', 'companies', 'complicate', 'concern', 'concerned', 'conditions', 'connection', 'conquer', 'consider', 'consume', 'consuming', 'consumption', 'conversation', 'cooling', 'cosmesis', 'cosmetics', 'could', 'cr_uk', 'cream', 'crispr', 'cry', 'cryotablation', 'cup', 'cuzick', 'cyst', 'dad', 'daily', 'dark', 'daughter', 'day', 'dbt', 'dcis', 'deal', 'death', 'deaths', 'decide', 'deciding', 'decision', 'decisions', 'decrease', 'decreased', 'define', 'defining', 'degree', 'delayed', 'density', 'detection', 'detects', 'develop', 'developing', 'development', 'diabetes', 'diagnosed', 'diagnosis', 'did', 'didnt', 'didyouknow', 'die', 'diepflap', 'diet', 'diets', 'differ', 'difference', 'different', 'difficult', 'digital', 'discharge', 'disease', 'disruptors', 'dna', 'do', 'doctor', 'doctors', 'does', 'dollars', 'don', 'doubles', 'dr_s_ackerman', 'drinking', 'drsusanlove', 'drug', 'drugs', 'dublin', 'ductal', 'due', 'during', 'dyk', 'each', 'earlier', 'early', 'easier', 'eat', 'eating', 'edcs', 'editing', 'education', 'effect', 'effective', 'effectiveness', 'effects', 'elevate', 'else', 'emerge', 'end', 'endo', 'endocrine', 'endorcrine', 'endorsing', 'enev1hqbqb', 'enjoying', 'enough', 'environmental', 'enzyme', 'epidemic', 'equal', 'equals', 'er', 'era', 'estro_rt', 'estrogen', 'et', 'europe', 'even', 'events', 'ever', 'every', 'everyone', 'evolution', 'evolve', 'exactly', 'exams', 'exercise', 'exercising', 'exist', 'expander', 'expect', 'experience', 'experienced', 'experts', 'exposure', 'face', 'factfriday', 'factor', 'factors', 'falcon', 'false', 'family', 'fancies', 'faster', 'fasting', 'fat', 'fatgrafting', 'fatigue', 'favorite', 'fear', 'feb', 'feel', 'fight', 'fighter', 'fighting', 'fill', 'find', 'finding', 'fire', 'first', 'fish', 'fit', 'five', 'flying', 'focussing', 'fog', 'follow', 'followers', 'following', 'food', 'footwear', 'for', 'form', 'forming', 'found', 'frack', 'free', 'friday', 'friend', 'friends', 'from', 'future', 'gained', 'gathering', 'gene', 'generation', 'genes', 'genetic', 'geneticcounseling', 'genomic', 'germline', 'get', 'getting', 'ginger', 'girls', 'give', 'given', 'glad', 'glasses', 'go', 'goals', 'goes', 'gogopink', 'going', 'good', 'got', 'gotten', 'grade', 'granny', 'gray', 'great', 'greet', 'grilled', 'group', 'growth', 'guidance', 'guide', 'guys', 'h4flm1fci4', 'h_s_e', 'had', 'hair', 'halt', 'handwash', 'happening', 'happens', 'happiness', 'hard', 'harmful', 'has', 'have', 'having', 'hdac', 'health', 'healthier', 'healthy', 'healthyeating', 'heard', 'heart', 'heartdisease', 'help', 'helped', 'helpful', 'helpless', 'her', 'her2', 'here', 'high', 'higher', 'history', 'ho5w4rys', 'holistic', 'hope', 'hormone', 'hormonedisruptors', 'horrible', 'hours', 'how', 'hr', 'hse', 'http', 'https', 'huge', 'human', 'hurt', 'hurts', 'identify', 'if', 'ignore', 'ii', 'imaged', 'imaging', 'imagingai', 'immune', 'immunotherapies', 'immunotherapy', 'impact', 'implants', 'important', 'improve', 'improved', 'in', 'include', 'including', 'inclusion', 'increase', 'increased', 'increases', 'increasing', 'induced', 'inflammatorybreastcancer', 'info', 'information', 'inhibitors', 'innocent', 'insitu', 'inspires', 'instagram', 'instead', 'insurance', 'intake', 'interested', 'into', 'invasive', 'is', 'issues', 'it', 'its', 'jack', 'join', 'joint', 'just', 'jxuweocr', 'keep', 'keeping', 'kept', 'keto', 'key', 'keys', 'kill', 'kindness', 'knew', 'know', 'known', 'komen', 'lady', 'last', 'laugh', 'lbs', 'lead', 'leakage', 'learn', 'learned', 'least', 'less', 'let', 'letter', 'levels', 'life', 'lifeaftercancer', 'lifestyle', 'light', 'like', 'limitations', 'linings', 'link', 'linked', 'liquidbiopsy', 'list', 'listed', 'live', 'livestrong', 'lobular', 'london', 'long', 'looking', 'looks', 'losing', 'loved', 'low', 'lower', 'lowers', 'lumpectomy', 'lungs', 'lycopene', 'lymph', 'lymphedema', 'macrophages', 'main', 'make', 'makeover', 'makes', 'making', 'malebreastcancer', 'mammaprint', 'mammogram', 'mammograms', 'mammography', 'managing', 'many', 'march', 'marijuana', 'markers', 'marketing', 'mastectomies', 'mastectomy', 'materprivate', 'matter', 'may', 'mbc', 'mbc_project', 'me', 'mean', 'means', 'meant', 'measurement', 'meat', 'meats', 'medications', 'medicine', 'meditations', 'meeting', 'meets', 'men', 'mep', 'metastasis', 'metastasizes', 'metastatic', 'metastaticbc', 'metavivor', 'methionine', 'might', 'milk', 'million', 'millions', 'mimicker', 'misdiagnosed', 'mmr', 'mobility', 'modality', 'molecule', 'mom', 'moment', 'mondaymotivation', 'money', 'month', 'months', 'more', 'mornings', 'mortality', 'most', 'msg', 'much', 'mutation', 'mutations', 'my', 'myself', 'mysteries', 'naive', 'name', 'natural', 'nbcc', 'ndmcq6', 'need', 'needed', 'needs', 'negative', 'neoadjuvant', 'neratinib', 'nervous', 'neuropathy', 'new', 'newly', 'next', 'nice', 'night', 'nighttime', 'nightwork', 'nipple', 'no', 'node', 'nodes', 'nomakeupselfie', 'non', 'nonsmoking', 'norm', 'normal', 'nosafethresholds', 'not', 'nottooyoung', 'now', 'nrtoday', 'nyc', 'obesity', 'occ', 'occupational', 'october', 'of', 'offer', 'often', 'old', 'older', 'omega3', 'on', 'oncologist', 'one', 'ongoing', 'only', 'opinion', 'options', 'or', 'other', 'others', 'our', 'out', 'outcome', 'outcomes', 'outdoor', 'outside', 'ovarian', 'ovariancancer', 'ovaries', 'over', 'overrated', 'overtreated', 'own', 'paget', 'pain', 'panacea', 'panning', 'part', 'participate', 'partners', 'pass', 'passinspirationon', 'passionate', 'passiton', 'patient', 'patients', 'pay', 'pays', 'pdt', 'people', 'perform', 'peripheral', 'peritoneal', 'persists', 'personalize', 'personalized', 'perspective', 'pet', 'pfs', 'phantom', 'phase', 'physicaltherapy', 'piece', 'pill', 'pink', 'pinktober', 'pinterest', 'place', 'plan', 'play', 'player', 'please', 'plus', 'points', 'positive', 'possible', 'post', 'postmenopausal', 'power', 'ppl', 'precursor', 'predict', 'prediction', 'predictor', 'pregnancy', 'presentation', 'prevent', 'preventative', 'prevented', 'preventing', 'prevention', 'previous', 'primaryprevention', 'prime', 'prior', 'priority', 'problem', 'procedures', 'process', 'produce', 'products', 'programme', 'progression', 'project', 'proliferation', 'promising', 'promoting', 'proper', 'protect', 'protected', 'prshottopic', 'pss', 'puberty', 'put', 'quality', 'question', 'quiz', 'qwfip31t', 'race', 'radiation', 'radiologists', 'radiotherapy', 'radon', 'raises', 'raising', 'rare', 'rashes', 'rates', 're', 'reaction', 'ready', 'realism', 'really', 'receive', 'received', 'recently', 'recognised', 'recognize', 'recommendations', 'reconstruct', 'reconstruction', 'recur', 'recurrence', 'reduce', 'reflection', 'regular', 'relapse', 'related', 'relating', 'relation', 'relative', 'removed', 'replace', 'required', 'research', 'researchers', 'resistance', 'resistant', 'resolution', 'restriction', 'retardant', 'returns', 'reviewing', 'rib', 'right', 'risk', 'riskfactors', 'risks', 'robotic', 'roboticsurgery', 'role', 'rose', 'rsv', 'rt', 'run', 'safe', 'safer', 'safety', 'said', 'same', 'sat', 'save', 'say', 'says', 'scalp', 'scams', 'scans', 'scanxiety', 'scar', 'scarred', 'scheduled', 'school', 'science', 'scorestory', 'screening', 'seattle', 'second', 'see', 'seek', 'seen', 'self', 'sentence', 'sentinelnodebiopsy', 'separate', 'share', 'she', 'shift', 'shiftwork', 'shingles', 'shot', 'should', 'shows', 'sick', 'side', 'significantly', 'signs', 'since', 'situ', 'skip', 'sleep', 'slow', 'smoked', 'so', 'some', 'someday', 'someone', 'somersaults', 'something', 'south', 'soy', 'space', 'specifically', 'speed', 'spending', 'sperm', 'spine', 'spreading', 'stage', 'staged', 'stages', 'start', 'statement', 'states', 'stationary', 'statistic', 'stay', 'steps', 'still', 'stop', 'stopping', 'story', 'strength', 'strengthen', 'stress', 'struggling', 'studies', 'sub', 'subtype', 'successfully', 'such', 'suck', 'sugar', 'suggest', 'suggested', 'suggestions', 'summer', 'supply', 'support', 'sure', 'surgeons', 'surgery', 'surgical', 'surprising', 'surrogate', 'surveillance', 'survival', 'survivor', 'survivors', 'survivorship', 'susangkomen', 'susceptible', 'swollen', 'symptom', 'symptoms', 'syndrome', 'system', 'tackle', 'take', 'taking', 'talking', 'tap', 'tattoos', 'teacher', 'techniques', 'teeth', 'tell', 'terms', 'test', 'tested', 'testing', 'tests', 'than', 'that', 'the', 'their', 'them', 'then', 'therapies', 'therapy', 'there', 'these', 'they', 'thing', 'think', 'third', 'this', 'those', 'thoughts', 'through', 'time', 'times', 'tissue', 'tnbc', 'to', 'today', 'told', 'tomato', 'tomosynthesis', 'too', 'top', 'topics', 'touched', 'touching', 'toxin', 'tracers', 'traditional', 'trained', 'tramflap', 'transfer', 'trastuzumab', 'traumatic', 'treat', 'treated', 'treating', 'treatment', 'treatments', 'trend', 'trial', 'trials', 'tribute', 'trick', 'triclosan', 'triona_c', 'triple', 'triplet', 'trivializing', 'trouble', 'true', 'truly', 'trusted', 'trying', 'tues', 'tummy', 'tumor', 'tumors', 'turn', 'two', 'tx', 'types', 'typical', 'underserved', 'unite', 'united', 'unknown', 'unnecessary', 'up', 'upper', 'us', 'use', 'used', 'useful', 'using', 'uterine', 'vaccine', 'vaccines', 'valley', 'value', 've', 'video', 'videos', 'visited', 'visiting', 'vitamind', 'voice', 'voices', 'vote', 'voted', 'votes', 'vs', 'waiting', 'walk', 'want', 'wanted', 'wants', 'was', 'wasting', 'watch', 'water', 'watermelon', 'way', 'ways', 'we', 'web', 'week', 'weekend', 'weekly', 'weeks', 'weighed', 'weight', 'well', 'were', 'what', 'whats', 'when', 'where', 'which', 'while', 'who', 'why', 'will', 'wine', 'wish', 'with', 'without', 'woman', 'womb', 'women', 'won', 'wonder', 'wondering', 'word', 'work', 'workers', 'working', 'world', 'worldcancerday', 'worried', 'would', 'wouldn', 'wow', 'wrong', 'wsferries', 'yard', 'ybcn_uk', 'year', 'yet', 'yoga', 'yogurt', 'you', 'young', 'younger', 'your', 'yourself', 'zero', 'zofran', 'zoladex', 'äì', 'äìrelated', 'äî', 'äîand', 'äîdo', 'äôs', 'äôt', 'äù', 'äú', 'äúmy', 'äústage', 'ü6', 'üô']\n",
      "[[0 0 0 ... 0 0 0]\n",
      " [0 0 0 ... 0 0 0]\n",
      " [0 0 0 ... 0 0 0]\n",
      " ...\n",
      " [0 0 0 ... 0 0 0]\n",
      " [0 0 0 ... 0 0 0]\n",
      " [0 0 0 ... 0 0 0]]\n"
     ]
    }
   ],
   "source": [
    "ind = 0\n",
    "questions = []\n",
    "y = []\n",
    "while ind!=500: \n",
    "    questions.append(data.iloc[ind, 4])\n",
    "    y.append(data.iloc[ind,9])\n",
    "    ind+=1    \n",
    "y = np.array(y)\n",
    "vectorizer = CountVectorizer()\n",
    "X = vectorizer.fit_transform(questions)\n",
    "print(vectorizer.get_feature_names())\n",
    "print(X.toarray())"
   ]
  },
  {
   "cell_type": "code",
   "execution_count": 1,
   "metadata": {
    "scrolled": true
   },
   "outputs": [
    {
     "ename": "NameError",
     "evalue": "name 'X' is not defined",
     "output_type": "error",
     "traceback": [
      "\u001b[0;31m---------------------------------------------------------------------------\u001b[0m",
      "\u001b[0;31mNameError\u001b[0m                                 Traceback (most recent call last)",
      "\u001b[0;32m<ipython-input-1-128e050e9c08>\u001b[0m in \u001b[0;36m<module>\u001b[0;34m\u001b[0m\n\u001b[1;32m      8\u001b[0m \u001b[0mkf\u001b[0m \u001b[0;34m=\u001b[0m \u001b[0mKFold\u001b[0m\u001b[0;34m(\u001b[0m\u001b[0mn_splits\u001b[0m \u001b[0;34m=\u001b[0m \u001b[0;36m10\u001b[0m\u001b[0;34m,\u001b[0m \u001b[0mshuffle\u001b[0m \u001b[0;34m=\u001b[0m \u001b[0;32mTrue\u001b[0m\u001b[0;34m)\u001b[0m\u001b[0;34m\u001b[0m\u001b[0;34m\u001b[0m\u001b[0m\n\u001b[1;32m      9\u001b[0m \u001b[0;34m\u001b[0m\u001b[0m\n\u001b[0;32m---> 10\u001b[0;31m \u001b[0;32mfor\u001b[0m \u001b[0mtrain_index\u001b[0m\u001b[0;34m,\u001b[0m \u001b[0mtest_index\u001b[0m \u001b[0;32min\u001b[0m \u001b[0mkf\u001b[0m\u001b[0;34m.\u001b[0m\u001b[0msplit\u001b[0m\u001b[0;34m(\u001b[0m\u001b[0mX\u001b[0m\u001b[0;34m)\u001b[0m\u001b[0;34m:\u001b[0m\u001b[0;34m\u001b[0m\u001b[0;34m\u001b[0m\u001b[0m\n\u001b[0m\u001b[1;32m     11\u001b[0m     \u001b[0mprint\u001b[0m\u001b[0;34m(\u001b[0m\u001b[0;34m\"TRAIN:\"\u001b[0m\u001b[0;34m,\u001b[0m \u001b[0mtrain_index\u001b[0m\u001b[0;34m,\u001b[0m \u001b[0;34m\"TEST:\"\u001b[0m\u001b[0;34m,\u001b[0m \u001b[0mtest_index\u001b[0m\u001b[0;34m)\u001b[0m\u001b[0;34m\u001b[0m\u001b[0;34m\u001b[0m\u001b[0m\n\u001b[1;32m     12\u001b[0m     \u001b[0mX_train\u001b[0m\u001b[0;34m,\u001b[0m \u001b[0mX_test\u001b[0m \u001b[0;34m=\u001b[0m \u001b[0mX\u001b[0m\u001b[0;34m[\u001b[0m\u001b[0mtrain_index\u001b[0m\u001b[0;34m]\u001b[0m\u001b[0;34m,\u001b[0m \u001b[0mX\u001b[0m\u001b[0;34m[\u001b[0m\u001b[0mtest_index\u001b[0m\u001b[0;34m]\u001b[0m\u001b[0;34m\u001b[0m\u001b[0;34m\u001b[0m\u001b[0m\n",
      "\u001b[0;31mNameError\u001b[0m: name 'X' is not defined"
     ]
    }
   ],
   "source": [
    "from sklearn.naive_bayes import GaussianNB\n",
    "model = GaussianNB()\n",
    "\n",
    "from sklearn.model_selection import KFold \n",
    "from sklearn import metrics\n",
    "\n",
    "\n",
    "kf = KFold(n_splits = 10, shuffle = True)\n",
    "\n",
    "for train_index, test_index in kf.split(X):\n",
    "    print(\"TRAIN:\", train_index, \"TEST:\", test_index)\n",
    "    X_train, X_test = X[train_index], X[test_index]\n",
    "    y_train, y_test = y[train_index], y[test_index]\n",
    "    model.fit(X_train.toarray(),y_train)\n",
    "    predict = model.predict(X_test.toarray())\n",
    "    print(\"Accuracy:\", metrics.accuracy_score(y_test, predict)) "
   ]
  },
  {
   "cell_type": "markdown",
   "metadata": {},
   "source": [
    "## What to do next\n",
    "1. Annotate more data (when you're bored).\n",
    "2. Add more features to the model.\n",
    "    a. Sentiment (VADER)\n",
    "    b. Topic Modeling (LDA / CorEx)\n",
    "        i. Understand the output of LDA\n",
    "    c. Social dynamics (the number of followers or followees the user has)\n",
    "    d. Natasha's ideas (characteristics of the tweets, anything else)\n",
    "3. Other models (Random Forest)\n",
    "\n",
    "On Wednesday 6/12 at 2:30 we will meet Sara via Lync"
   ]
  },
  {
   "cell_type": "markdown",
   "metadata": {},
   "source": [
    "my ideas: how many posts, content of tweets, types of followers, retweets, mentions, hastags "
   ]
  },
  {
   "cell_type": "code",
   "execution_count": null,
   "metadata": {},
   "outputs": [],
   "source": []
  }
 ],
 "metadata": {
  "kernelspec": {
   "display_name": "Python 3",
   "language": "python",
   "name": "python3"
  },
  "language_info": {
   "codemirror_mode": {
    "name": "ipython",
    "version": 3
   },
   "file_extension": ".py",
   "mimetype": "text/x-python",
   "name": "python",
   "nbconvert_exporter": "python",
   "pygments_lexer": "ipython3",
   "version": "3.7.1"
  }
 },
 "nbformat": 4,
 "nbformat_minor": 2
}
